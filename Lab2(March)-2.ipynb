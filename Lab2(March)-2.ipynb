{
 "cells": [
  {
   "cell_type": "code",
   "execution_count": 6,
   "id": "3289e27f-4df9-464f-9e4b-59521ea46e64",
   "metadata": {
    "tags": []
   },
   "outputs": [
    {
     "name": "stdout",
     "output_type": "stream",
     "text": [
      "('90210', '60601', '94102')\n",
      "('94102', '60601', '90210')\n"
     ]
    }
   ],
   "source": [
    "#Question 1a : Given a list of cities and their corresponding ZIP codes, extract the ZIP codes and organize them into a tuple. \n",
    "\n",
    "zipcode = {'90210':'Beverly Hills, CA', '60601': 'Chicago, IL', '94102':'San Francisco, CA'}\n",
    " \n",
    "zipcodes = tuple(zipcode.keys())    \n",
    "print(zipcodes)    \n",
    "    \n",
    "#Question 1b: Rearrange the tuple in reverse order from 1a. \n",
    "\n",
    "rzipcodes = reversed(zipcodes)\n",
    "print(tuple(rzipcodes))\n",
    "      \n"
   ]
  },
  {
   "cell_type": "code",
   "execution_count": 52,
   "id": "0119a72c-2b26-469e-a8f2-e0b36b62935f",
   "metadata": {
    "tags": []
   },
   "outputs": [
    {
     "name": "stdout",
     "output_type": "stream",
     "text": [
      "<re.Match object; span=(55, 60), match='apple'>\n",
      "(55, 60)\n"
     ]
    }
   ],
   "source": [
    "# question 2 : Here is a list of groceries. The user needs help extracting the text \"apples\" and placing the text \"apples\" into the sentence below.\n",
    "#  Please use regular expressions. ( regex ) \n",
    "import re  \n",
    "random_text = \"Milk, eggs, bread, butter, cheese, fresh fruits (e.g., apples, bananas), fresh vegetables (e.g., lettuce, tomatoes), rice, pasta, canned tomatoes, chicken breasts or thighs, ground beef or turkey, cooking oil (e.g., olive oil), spices (e.g., salt, pepper), snacks (e.g., chips, nuts)\" \n",
    "#from https://randomwordgenerator.com/sentence.php 😀\n",
    "print(re.search('apple', random_text))\n",
    "\n",
    "\n",
    "\n",
    "#What is the starting and ending position of the text \"apples\" in random_text? Paste below 👇 \n",
    "print(re.search('apple', random_text).span())      \n",
    "      \n"
   ]
  },
  {
   "cell_type": "code",
   "execution_count": 34,
   "id": "bae211a8-20d1-44c2-97bf-5ed98fc4cd74",
   "metadata": {
    "tags": []
   },
   "outputs": [
    {
     "name": "stdout",
     "output_type": "stream",
     "text": [
      "the key is  [0, '@graph', 13, 'recipeIngredient']\n"
     ]
    },
    {
     "data": {
      "text/plain": [
       "['2 (9&quot;) pie crusts',\n",
       " '7 large Granny Smith apples (peeled, cored and sliced into 1/2 inch slices)',\n",
       " '1/2 cup granulated sugar',\n",
       " '1/2 cup light brown sugar (loosely packed)',\n",
       " '2 tablespoons all-purpose flour',\n",
       " '1 teaspoon ground cinnamon',\n",
       " '1/8 teaspoon ground nutmeg',\n",
       " '1 tablespoon lemon juice (plus the zest of half of a lemon)',\n",
       " '1 large egg (lightly beaten in a small bowl for egg wash)',\n",
       " '2 tablespoons sanding sugar (optional)']"
      ]
     },
     "execution_count": 34,
     "metadata": {},
     "output_type": "execute_result"
    }
   ],
   "source": [
    "# question 3 : \n",
    "#I have a link to a recipe for making apple pie, perfect for celebrating Pi Day. \n",
    "#I'm seeking assistance with extracting the 'recipeIngredient' section from the website. \n",
    "#A helpful hint is that we could utilize the 'json' module for this task.\n",
    "from bs4 import BeautifulSoup\n",
    "from urllib.request import Request, urlopen\n",
    "\n",
    "# help you get started\n",
    "site= \"https://littlespoonfarm.com/apple-pie-recipe/\" # happy PI day \n",
    "hdr = {'User-Agent': 'Mozilla/5.0'}\n",
    "req = Request(site, headers=hdr)\n",
    "page = urlopen(req)\n",
    "soup = BeautifulSoup(page) #Creates a BeautifulSoup object called soup\n",
    "soup # a little messy\n",
    "\n",
    "import json\n",
    "json_scripts = soup.find_all('script', type='application/ld+json')\n",
    "json_data = [json.loads(script.text, strict=False) for script in json_scripts] \n",
    "json_data\n",
    "\n",
    "item_number = 0\n",
    "find = \"recipeIngredient\"\n",
    "\n",
    "\n",
    "def rece(search:str, inputListOrDict, found, key):\n",
    "    if key == None:\n",
    "        key = []\n",
    "    f = 0\n",
    "    if type(inputListOrDict) == dict:\n",
    "        for i in inputListOrDict.keys():\n",
    "            found = re.findall(search, i)\n",
    "            if found:\n",
    "                if type(inputListOrDict) == dict:\n",
    "                    key.append(i)\n",
    "                    return key, found\n",
    "        stuff = inputListOrDict.values()\n",
    "    else: stuff = inputListOrDict\n",
    "    for i in stuff:\n",
    "        if type(i) in (list, dict):\n",
    "            key , found = rece(search, i, found, key)\n",
    "        elif type(i) == str:\n",
    "             found = re.findall(search, i)\n",
    "        if found:\n",
    "            if type(inputListOrDict) == dict:\n",
    "                key.append(list(inputListOrDict.keys())[f])\n",
    "                return key, found\n",
    "            elif type(inputListOrDict) == list:\n",
    "                key.append(f)\n",
    "                return key, found\n",
    "        f += 1\n",
    "    return key, found\n",
    "\n",
    "def findInList(search:str, inputListOrDict:list or dict, found = 0, key= None) -> list:\n",
    "    return rece(search, inputListOrDict, found, key)[0][::-1]\n",
    "\n",
    "\n",
    "\n",
    "key = findInList(find, json_data)\n",
    "\n",
    "print(\"the key is \", key)\n",
    "json_data[0]['@graph'][13]['recipeIngredient']"
   ]
  },
  {
   "cell_type": "code",
   "execution_count": 51,
   "id": "96c51918-ae9b-493a-9803-88087a586dad",
   "metadata": {
    "tags": []
   },
   "outputs": [
    {
     "name": "stdout",
     "output_type": "stream",
     "text": [
      "{-70, -60, 36, 74, 42, -52, 12, -20, -82, 18, -46, -14, 88, -38}\n",
      "{-95, -31, -29, 69, 41, 91, 79, -67, 17, -13, -73, 25, 27, -35, 63}\n",
      "{9, 2, 5, 6}\n"
     ]
    }
   ],
   "source": [
    "# question 4 :\n",
    "# Here are two sets \n",
    "\n",
    "def poper(impSet: set, mod: int):\n",
    "    output = set()\n",
    "    \n",
    "    for i in impSet:\n",
    "        if i % 2 == mod:\n",
    "            output.add(i)\n",
    "    return output\n",
    "        \n",
    "\n",
    "#4a: Create a code for the user who wants to extract only even numbers from setA.\n",
    "setA = {-82, 45, -27, 69, -14, 83, 57, -91, 36, -3, 18, -60, 74, -38, 5, -70, 29, 91, -52, 12, -46, 63, -9, 42, 77, -65, 21, -37, 88, -20}\n",
    "\n",
    "print(poper(setA,0))\n",
    "\n",
    "#4b: Create a code for the user who wants to extract only odd numbers from setB.\n",
    "setB = {-88, 17, -42, 69, -31, 58, 74, -95, 25, -13, 36, -67, 82, -50, 41, -73, 6, 91, -29, 52, -84, 27, -20, 63, 79, -58, 12, -35, 88, -16}\n",
    "    \n",
    "print(poper(setB,1))\n",
    "\n",
    "      \n",
    "#4c: Find the intersection between set2 and set3.\n",
    "\n",
    "set2 = {1,2,4,5,6,7,8,9}\n",
    "set3 = {2,9,5,6,15,13}\n",
    "\n",
    "inter = set2.intersection(set3)\n",
    "print(inter)\n"
   ]
  },
  {
   "cell_type": "code",
   "execution_count": 48,
   "id": "39186245-0a7e-48c4-b0e5-c0b2e8cdb8ed",
   "metadata": {
    "tags": []
   },
   "outputs": [],
   "source": [
    "# Question 5\n",
    "#Upload your completed lab to your GitHub and submit the link to yout Git Hub account."
   ]
  },
  {
   "cell_type": "code",
   "execution_count": null,
   "id": "dff589d9-31a8-47be-b4c5-d1c430b4a83b",
   "metadata": {},
   "outputs": [],
   "source": []
  }
 ],
 "metadata": {
  "kernelspec": {
   "display_name": "Python 3 (ipykernel)",
   "language": "python",
   "name": "python3"
  },
  "language_info": {
   "codemirror_mode": {
    "name": "ipython",
    "version": 3
   },
   "file_extension": ".py",
   "mimetype": "text/x-python",
   "name": "python",
   "nbconvert_exporter": "python",
   "pygments_lexer": "ipython3",
   "version": "3.11.3"
  }
 },
 "nbformat": 4,
 "nbformat_minor": 5
}
